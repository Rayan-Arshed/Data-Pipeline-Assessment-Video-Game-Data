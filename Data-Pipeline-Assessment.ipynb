{
 "cells": [
  {
   "cell_type": "markdown",
   "id": "3c6eef61-e313-4ee4-a6f5-e514366fa2dd",
   "metadata": {
    "tags": []
   },
   "source": [
    "# Data Pipeline Assessment"
   ]
  },
  {
   "cell_type": "markdown",
   "id": "aaf9668c-ab33-411b-952e-49d9487ec4f6",
   "metadata": {},
   "source": [
    "## Analysing Video Game Reviews and Sales across 2 Datasets"
   ]
  },
  {
   "cell_type": "markdown",
   "id": "e55e9d33-c4d0-468d-bd02-3f9dc884bdfa",
   "metadata": {},
   "source": [
    "This project will analyse and consider video game reviews as well as sales performance across the world. I have chosen two data sets for this project, they are as follows:\n",
    "\n",
    "Popular Video Games 1980 - 2023 🎮: https://www.kaggle.com/datasets/arnabchaki/popular-video-games-1980-2023/\n",
    "\n",
    "Video Game Sales 1978 - 2024: https://www.kaggle.com/datasets/jasonlreed/video-game-sales\n",
    "\n",
    "With these two data sets, I will extract them, perform exploratory data analysis, transform the data, visualize it, and attempt some feature engineering, before saving it to a MySQL Database.\n"
   ]
  },
  {
   "cell_type": "code",
   "execution_count": null,
   "id": "bb8828eb-617c-49c8-86f1-40c7cb59d038",
   "metadata": {},
   "outputs": [],
   "source": []
  }
 ],
 "metadata": {
  "kernelspec": {
   "display_name": "Python 3 (ipykernel)",
   "language": "python",
   "name": "python3"
  },
  "language_info": {
   "codemirror_mode": {
    "name": "ipython",
    "version": 3
   },
   "file_extension": ".py",
   "mimetype": "text/x-python",
   "name": "python",
   "nbconvert_exporter": "python",
   "pygments_lexer": "ipython3",
   "version": "3.11.5"
  }
 },
 "nbformat": 4,
 "nbformat_minor": 5
}
