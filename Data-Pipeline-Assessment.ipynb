{
 "cells": [
  {
   "cell_type": "markdown",
   "id": "3c6eef61-e313-4ee4-a6f5-e514366fa2dd",
   "metadata": {
    "tags": []
   },
   "source": [
    "# Data Pipeline Assessment"
   ]
  },
  {
   "cell_type": "markdown",
   "id": "aaf9668c-ab33-411b-952e-49d9487ec4f6",
   "metadata": {},
   "source": [
    "## Analysing Video Game Reviews and Sales across 2 Datasets"
   ]
  },
  {
   "cell_type": "markdown",
   "id": "e55e9d33-c4d0-468d-bd02-3f9dc884bdfa",
   "metadata": {},
   "source": [
    "This project will analyse and consider video game reviews as well as sales performance across the world. I have chosen two data sets for this project, they are as follows:\n",
    "\n",
    "Popular Video Games 1980 - 2023 🎮: https://www.kaggle.com/datasets/arnabchaki/popular-video-games-1980-2023/\n",
    "\n",
    "Video Game Sales 1978 - 2024: https://www.kaggle.com/datasets/jasonlreed/video-game-sales\n",
    "\n",
    "With these two data sets, I will extract them, perform exploratory data analysis, transform the data, visualize it, and attempt some feature engineering, before saving it to a MySQL Database.\n"
   ]
  },
  {
   "cell_type": "markdown",
   "id": "24b1d001-c87f-4c85-93e6-359095410a93",
   "metadata": {},
   "source": [
    "## Data Extraction"
   ]
  },
  {
   "cell_type": "markdown",
   "id": "fab1b0e6-7067-492c-9491-5c1497d28da2",
   "metadata": {},
   "source": [
    "## Initial Exploratory Data Analysis"
   ]
  },
  {
   "cell_type": "markdown",
   "id": "75bc2a85-9ba6-4b93-8262-f4ad300a4ab8",
   "metadata": {},
   "source": [
    "## Cleaning and Transforming Data"
   ]
  },
  {
   "cell_type": "markdown",
   "id": "8c35695c-3b06-41cf-8989-cfd54eecb1bd",
   "metadata": {},
   "source": [
    "## Connecting the Data Sets"
   ]
  },
  {
   "cell_type": "markdown",
   "id": "5dbf885c-c512-4fb0-8a65-81d26d1c4a84",
   "metadata": {},
   "source": [
    "## Drawing Thoughts from Analysis"
   ]
  },
  {
   "cell_type": "markdown",
   "id": "7b118ead-52c1-4a2d-aec7-bef1e014625a",
   "metadata": {},
   "source": [
    "## Data Visualization"
   ]
  },
  {
   "cell_type": "markdown",
   "id": "03d73765-bd9d-476a-bbd4-18afd5be3bf5",
   "metadata": {},
   "source": [
    "## Saving to MySQL Database"
   ]
  },
  {
   "cell_type": "markdown",
   "id": "a5561c81-fdb0-47e8-a33c-c18a9053eed8",
   "metadata": {},
   "source": [
    "## Conclusions"
   ]
  }
 ],
 "metadata": {
  "kernelspec": {
   "display_name": "Python 3 (ipykernel)",
   "language": "python",
   "name": "python3"
  },
  "language_info": {
   "codemirror_mode": {
    "name": "ipython",
    "version": 3
   },
   "file_extension": ".py",
   "mimetype": "text/x-python",
   "name": "python",
   "nbconvert_exporter": "python",
   "pygments_lexer": "ipython3",
   "version": "3.11.5"
  }
 },
 "nbformat": 4,
 "nbformat_minor": 5
}
